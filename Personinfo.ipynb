{
 "cells": [
  {
   "cell_type": "code",
   "execution_count": null,
   "id": "5b41fe85-5367-426a-981f-54c4461142ea",
   "metadata": {},
   "outputs": [],
   "source": [
    "import json\n",
    "\n",
    "name=input(\"Ange namn: \").capitalize()\n",
    "while True:\n",
    "    try:\n",
    "        age=int(input(\"Ange ålder: \"))\n",
    "        break\n",
    "    except ValueError:\n",
    "        print(\"\\nAnge heltal, försök igen\")\n",
    "favorite_colour=input(\"Ange favoritfärg: \").capitalize()\n",
    "\n",
    "pers_info={\n",
    "    \"Name\":name,\n",
    "    \"Age\":age,\n",
    "    \"Favorite Colour\":favorite_colour\n",
    "}\n",
    "filnamn=\"personer.json\"\n",
    "\n",
    "try:\n",
    "    with open(filnamn,\"r\")as json_fil:\n",
    "        data=json.load(json_fil)\n",
    "        data=[data]\n",
    "except (FileNotFoundError, json.JSONDecodeError):\n",
    "    data=[]\n",
    "\n",
    "data.append(pers_info)\n",
    "\n",
    "with open(filnamn,\"w\")as fil:\n",
    "    json.dump(data,fil,indent=4)\n",
    "\n",
    "print(\"\\nInformationen har sparats till JSON filen\")\n",
    "\n",
    "with open(filnamn,\"r\")as fil:\n",
    "    personer=json.load(fil)\n",
    "    print(\"\\nAlla sparade personer:\")\n",
    "    print(json.dumps(personer,indent=4))"
   ]
  }
 ],
 "metadata": {
  "kernelspec": {
   "display_name": "Python 3 (ipykernel)",
   "language": "python",
   "name": "python3"
  },
  "language_info": {
   "codemirror_mode": {
    "name": "ipython",
    "version": 3
   },
   "file_extension": ".py",
   "mimetype": "text/x-python",
   "name": "python",
   "nbconvert_exporter": "python",
   "pygments_lexer": "ipython3",
   "version": "3.12.7"
  }
 },
 "nbformat": 4,
 "nbformat_minor": 5
}
